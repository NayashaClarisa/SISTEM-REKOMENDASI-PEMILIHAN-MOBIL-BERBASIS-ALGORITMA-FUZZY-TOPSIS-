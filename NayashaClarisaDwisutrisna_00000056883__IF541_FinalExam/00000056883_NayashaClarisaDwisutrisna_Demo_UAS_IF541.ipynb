{
 "cells": [
  {
   "cell_type": "markdown",
   "id": "5f146070",
   "metadata": {},
   "source": [
    "# Proyek UAS Expert System \n",
    "\n",
    "Data set yang digunakan The Cars : https://www.kaggle.com/datasets/qusaybtoush1990/the-cars"
   ]
  },
  {
   "cell_type": "markdown",
   "id": "056a4952",
   "metadata": {},
   "source": [
    "### Import Library"
   ]
  },
  {
   "cell_type": "code",
   "execution_count": 1,
   "id": "30a605a3",
   "metadata": {},
   "outputs": [],
   "source": [
    "import sys\n",
    "import numpy as np\n",
    "import pandas as pd"
   ]
  },
  {
   "cell_type": "markdown",
   "id": "e49a014c",
   "metadata": {},
   "source": [
    "### Pengecekan Dataset"
   ]
  },
  {
   "cell_type": "code",
   "execution_count": 2,
   "id": "94177984",
   "metadata": {},
   "outputs": [],
   "source": [
    "data = pd.read_csv(\"car1.csv\")"
   ]
  },
  {
   "cell_type": "code",
   "execution_count": 3,
   "id": "4240556a",
   "metadata": {},
   "outputs": [
    {
     "data": {
      "text/html": [
       "<div>\n",
       "<style scoped>\n",
       "    .dataframe tbody tr th:only-of-type {\n",
       "        vertical-align: middle;\n",
       "    }\n",
       "\n",
       "    .dataframe tbody tr th {\n",
       "        vertical-align: top;\n",
       "    }\n",
       "\n",
       "    .dataframe thead th {\n",
       "        text-align: right;\n",
       "    }\n",
       "</style>\n",
       "<table border=\"1\" class=\"dataframe\">\n",
       "  <thead>\n",
       "    <tr style=\"text-align: right;\">\n",
       "      <th></th>\n",
       "      <th>buying</th>\n",
       "      <th>maint</th>\n",
       "      <th>doors</th>\n",
       "      <th>persons</th>\n",
       "      <th>lug_boot</th>\n",
       "      <th>safety</th>\n",
       "      <th>rating</th>\n",
       "    </tr>\n",
       "  </thead>\n",
       "  <tbody>\n",
       "    <tr>\n",
       "      <th>0</th>\n",
       "      <td>vhigh</td>\n",
       "      <td>vhigh</td>\n",
       "      <td>2</td>\n",
       "      <td>2</td>\n",
       "      <td>small</td>\n",
       "      <td>low</td>\n",
       "      <td>unacc</td>\n",
       "    </tr>\n",
       "    <tr>\n",
       "      <th>1</th>\n",
       "      <td>vhigh</td>\n",
       "      <td>vhigh</td>\n",
       "      <td>2</td>\n",
       "      <td>2</td>\n",
       "      <td>small</td>\n",
       "      <td>med</td>\n",
       "      <td>unacc</td>\n",
       "    </tr>\n",
       "    <tr>\n",
       "      <th>2</th>\n",
       "      <td>vhigh</td>\n",
       "      <td>vhigh</td>\n",
       "      <td>2</td>\n",
       "      <td>2</td>\n",
       "      <td>small</td>\n",
       "      <td>high</td>\n",
       "      <td>unacc</td>\n",
       "    </tr>\n",
       "    <tr>\n",
       "      <th>3</th>\n",
       "      <td>vhigh</td>\n",
       "      <td>vhigh</td>\n",
       "      <td>2</td>\n",
       "      <td>2</td>\n",
       "      <td>med</td>\n",
       "      <td>low</td>\n",
       "      <td>unacc</td>\n",
       "    </tr>\n",
       "    <tr>\n",
       "      <th>4</th>\n",
       "      <td>vhigh</td>\n",
       "      <td>vhigh</td>\n",
       "      <td>2</td>\n",
       "      <td>2</td>\n",
       "      <td>med</td>\n",
       "      <td>med</td>\n",
       "      <td>unacc</td>\n",
       "    </tr>\n",
       "  </tbody>\n",
       "</table>\n",
       "</div>"
      ],
      "text/plain": [
       "  buying  maint doors persons lug_boot safety rating\n",
       "0  vhigh  vhigh     2       2    small    low  unacc\n",
       "1  vhigh  vhigh     2       2    small    med  unacc\n",
       "2  vhigh  vhigh     2       2    small   high  unacc\n",
       "3  vhigh  vhigh     2       2      med    low  unacc\n",
       "4  vhigh  vhigh     2       2      med    med  unacc"
      ]
     },
     "execution_count": 3,
     "metadata": {},
     "output_type": "execute_result"
    }
   ],
   "source": [
    "data.head()"
   ]
  },
  {
   "cell_type": "code",
   "execution_count": 4,
   "id": "edf2d3e8",
   "metadata": {},
   "outputs": [
    {
     "name": "stdout",
     "output_type": "stream",
     "text": [
      "<class 'pandas.core.frame.DataFrame'>\n",
      "RangeIndex: 1728 entries, 0 to 1727\n",
      "Data columns (total 7 columns):\n",
      " #   Column    Non-Null Count  Dtype \n",
      "---  ------    --------------  ----- \n",
      " 0   buying    1728 non-null   object\n",
      " 1   maint     1728 non-null   object\n",
      " 2   doors     1728 non-null   object\n",
      " 3   persons   1728 non-null   object\n",
      " 4   lug_boot  1728 non-null   object\n",
      " 5   safety    1728 non-null   object\n",
      " 6   rating    1728 non-null   object\n",
      "dtypes: object(7)\n",
      "memory usage: 94.6+ KB\n"
     ]
    }
   ],
   "source": [
    "data.info()"
   ]
  },
  {
   "cell_type": "code",
   "execution_count": 5,
   "id": "7f42d493",
   "metadata": {},
   "outputs": [
    {
     "data": {
      "text/html": [
       "<div>\n",
       "<style scoped>\n",
       "    .dataframe tbody tr th:only-of-type {\n",
       "        vertical-align: middle;\n",
       "    }\n",
       "\n",
       "    .dataframe tbody tr th {\n",
       "        vertical-align: top;\n",
       "    }\n",
       "\n",
       "    .dataframe thead th {\n",
       "        text-align: right;\n",
       "    }\n",
       "</style>\n",
       "<table border=\"1\" class=\"dataframe\">\n",
       "  <thead>\n",
       "    <tr style=\"text-align: right;\">\n",
       "      <th></th>\n",
       "      <th>buying</th>\n",
       "      <th>maint</th>\n",
       "      <th>doors</th>\n",
       "      <th>persons</th>\n",
       "      <th>lug_boot</th>\n",
       "      <th>safety</th>\n",
       "      <th>rating</th>\n",
       "    </tr>\n",
       "  </thead>\n",
       "  <tbody>\n",
       "    <tr>\n",
       "      <th>count</th>\n",
       "      <td>1728</td>\n",
       "      <td>1728</td>\n",
       "      <td>1728</td>\n",
       "      <td>1728</td>\n",
       "      <td>1728</td>\n",
       "      <td>1728</td>\n",
       "      <td>1728</td>\n",
       "    </tr>\n",
       "    <tr>\n",
       "      <th>unique</th>\n",
       "      <td>4</td>\n",
       "      <td>4</td>\n",
       "      <td>4</td>\n",
       "      <td>3</td>\n",
       "      <td>3</td>\n",
       "      <td>3</td>\n",
       "      <td>4</td>\n",
       "    </tr>\n",
       "    <tr>\n",
       "      <th>top</th>\n",
       "      <td>vhigh</td>\n",
       "      <td>vhigh</td>\n",
       "      <td>2</td>\n",
       "      <td>2</td>\n",
       "      <td>small</td>\n",
       "      <td>low</td>\n",
       "      <td>unacc</td>\n",
       "    </tr>\n",
       "    <tr>\n",
       "      <th>freq</th>\n",
       "      <td>432</td>\n",
       "      <td>432</td>\n",
       "      <td>432</td>\n",
       "      <td>576</td>\n",
       "      <td>576</td>\n",
       "      <td>576</td>\n",
       "      <td>1210</td>\n",
       "    </tr>\n",
       "  </tbody>\n",
       "</table>\n",
       "</div>"
      ],
      "text/plain": [
       "       buying  maint doors persons lug_boot safety rating\n",
       "count    1728   1728  1728    1728     1728   1728   1728\n",
       "unique      4      4     4       3        3      3      4\n",
       "top     vhigh  vhigh     2       2    small    low  unacc\n",
       "freq      432    432   432     576      576    576   1210"
      ]
     },
     "execution_count": 5,
     "metadata": {},
     "output_type": "execute_result"
    }
   ],
   "source": [
    "data.describe()"
   ]
  },
  {
   "cell_type": "markdown",
   "id": "490d8fac",
   "metadata": {},
   "source": [
    "    Metode yang digunakan dalam perhitungan adalah TOPIS, maka kita akan menggantikan prioritas / yang dicari dalam pembelian mobil.\n",
    "\n",
    "    Value yang diinginkan adalah; buying: vhigh, maint: vlow, doors: 5more, persons: more, lug_boot: high, safety: high, rating: vgood.\n",
    "    Weight value yang digunakan adalah default 1 untuk perhitungan ini.\n",
    "    \n",
    "    Note: Value yang diambil merupakan hasil pendapat dari kelompok kami."
   ]
  },
  {
   "cell_type": "markdown",
   "id": "3cf23528",
   "metadata": {},
   "source": [
    "### Proses Defuzzyfikasi"
   ]
  },
  {
   "cell_type": "code",
   "execution_count": 6,
   "id": "ed78e413",
   "metadata": {},
   "outputs": [],
   "source": [
    "# defuzzifikasi untuk kolom 'buying'\n",
    "def defuzzify_buying(value):\n",
    "    if value == 'low':\n",
    "        return (1+2+3)/3\n",
    "    elif value == 'med':\n",
    "        return (3+4+5)/3\n",
    "    elif value == 'high':\n",
    "        return (5+6+7)/3\n",
    "    elif value == 'vhigh':\n",
    "        return (7+8+9)/3\n",
    "    else:\n",
    "        return None"
   ]
  },
  {
   "cell_type": "code",
   "execution_count": 7,
   "id": "45f159c8",
   "metadata": {},
   "outputs": [],
   "source": [
    "# defuzzifikasi untuk kolom 'maint'\n",
    "def defuzzify_maint(value):\n",
    "    if value == 'vhigh':\n",
    "        return (1+2+3)/3\n",
    "    elif value == 'high':\n",
    "        return (3+4+5)/3\n",
    "    elif value == 'med':\n",
    "        return (5+6+7)/3\n",
    "    elif value == 'low':\n",
    "        return (7+8+9)/3\n",
    "    else:\n",
    "        return None"
   ]
  },
  {
   "cell_type": "code",
   "execution_count": 8,
   "id": "1125b1e2",
   "metadata": {},
   "outputs": [],
   "source": [
    "# defuzzifikasi untuk kolom 'doors'\n",
    "def defuzzify_doors(value):\n",
    "    if value == '2':\n",
    "        return (1+2+3)/3\n",
    "    elif value == '3':\n",
    "        return (2+3+4)/3\n",
    "    elif value == '4':\n",
    "        return (3+4+5)/3\n",
    "    elif value == '5more':\n",
    "        return (4+5+6)/3\n",
    "    else:\n",
    "        return None"
   ]
  },
  {
   "cell_type": "code",
   "execution_count": 9,
   "id": "4342877e",
   "metadata": {},
   "outputs": [],
   "source": [
    "# defuzzifikasi untuk kolom 'persons'\n",
    "def defuzzify_persons(value):\n",
    "    if value == '2':\n",
    "        return (1+2+3)/3\n",
    "    elif value == '4':\n",
    "        return (3+4+5)/3\n",
    "    elif value == 'more':\n",
    "        return (5+6+7)/3\n",
    "    else:\n",
    "        return None"
   ]
  },
  {
   "cell_type": "code",
   "execution_count": 10,
   "id": "55a74b0d",
   "metadata": {},
   "outputs": [],
   "source": [
    "# defuzzifikasi untuk kolom 'lug_boot'\n",
    "def defuzzify_lug_boot(value):\n",
    "    if value == 'small':\n",
    "        return (1+2+3)/3\n",
    "    elif value == 'med':\n",
    "        return (3+4+5)/3\n",
    "    elif value == 'high':\n",
    "        return (5+6+7)/3\n",
    "    else:\n",
    "        return None"
   ]
  },
  {
   "cell_type": "code",
   "execution_count": 11,
   "id": "f8611880",
   "metadata": {},
   "outputs": [],
   "source": [
    "# defuzzifikasi untuk kolom 'safety'\n",
    "def defuzzify_safety(value):\n",
    "    if value == 'low':\n",
    "        return (1+2+3)/3\n",
    "    elif value == 'med':\n",
    "        return (3+4+5)/3\n",
    "    elif value == 'high':\n",
    "        return (5+6+7)/3\n",
    "    else:\n",
    "        return None"
   ]
  },
  {
   "cell_type": "code",
   "execution_count": 12,
   "id": "1c602659",
   "metadata": {},
   "outputs": [],
   "source": [
    "# defuzzifikasi untuk kolom 'rating'\n",
    "def defuzzify_rating(value):\n",
    "    if value == 'unacc':\n",
    "        return (1+2+3)/3\n",
    "    elif value == 'acc':\n",
    "        return (3+4+5)/3\n",
    "    elif value == 'good':\n",
    "        return (5+6+7)/3\n",
    "    elif value == 'vgood':\n",
    "        return (7+8+9)/3\n",
    "    else:\n",
    "        return None"
   ]
  },
  {
   "cell_type": "code",
   "execution_count": 13,
   "id": "c45e52cf",
   "metadata": {},
   "outputs": [],
   "source": [
    "data['buying'] = data['buying'].apply(defuzzify_buying)\n",
    "data['maint'] = data['maint'].apply(defuzzify_maint)\n",
    "data['doors'] = data['doors'].apply(defuzzify_doors)\n",
    "data['persons'] = data['persons'].apply(defuzzify_persons)\n",
    "data['lug_boot'] = data['lug_boot'].apply(defuzzify_lug_boot)\n",
    "data['safety'] = data['safety'].apply(defuzzify_safety)\n",
    "data['rating'] = data['rating'].apply(defuzzify_rating)"
   ]
  },
  {
   "cell_type": "code",
   "execution_count": 14,
   "id": "b1c39963",
   "metadata": {
    "scrolled": false
   },
   "outputs": [
    {
     "data": {
      "text/html": [
       "<div>\n",
       "<style scoped>\n",
       "    .dataframe tbody tr th:only-of-type {\n",
       "        vertical-align: middle;\n",
       "    }\n",
       "\n",
       "    .dataframe tbody tr th {\n",
       "        vertical-align: top;\n",
       "    }\n",
       "\n",
       "    .dataframe thead th {\n",
       "        text-align: right;\n",
       "    }\n",
       "</style>\n",
       "<table border=\"1\" class=\"dataframe\">\n",
       "  <thead>\n",
       "    <tr style=\"text-align: right;\">\n",
       "      <th></th>\n",
       "      <th>buying</th>\n",
       "      <th>maint</th>\n",
       "      <th>doors</th>\n",
       "      <th>persons</th>\n",
       "      <th>lug_boot</th>\n",
       "      <th>safety</th>\n",
       "      <th>rating</th>\n",
       "    </tr>\n",
       "  </thead>\n",
       "  <tbody>\n",
       "    <tr>\n",
       "      <th>0</th>\n",
       "      <td>8.0</td>\n",
       "      <td>2.0</td>\n",
       "      <td>2.0</td>\n",
       "      <td>2.0</td>\n",
       "      <td>2.0</td>\n",
       "      <td>2.0</td>\n",
       "      <td>2.0</td>\n",
       "    </tr>\n",
       "    <tr>\n",
       "      <th>1</th>\n",
       "      <td>8.0</td>\n",
       "      <td>2.0</td>\n",
       "      <td>2.0</td>\n",
       "      <td>2.0</td>\n",
       "      <td>2.0</td>\n",
       "      <td>4.0</td>\n",
       "      <td>2.0</td>\n",
       "    </tr>\n",
       "    <tr>\n",
       "      <th>2</th>\n",
       "      <td>8.0</td>\n",
       "      <td>2.0</td>\n",
       "      <td>2.0</td>\n",
       "      <td>2.0</td>\n",
       "      <td>2.0</td>\n",
       "      <td>6.0</td>\n",
       "      <td>2.0</td>\n",
       "    </tr>\n",
       "    <tr>\n",
       "      <th>3</th>\n",
       "      <td>8.0</td>\n",
       "      <td>2.0</td>\n",
       "      <td>2.0</td>\n",
       "      <td>2.0</td>\n",
       "      <td>4.0</td>\n",
       "      <td>2.0</td>\n",
       "      <td>2.0</td>\n",
       "    </tr>\n",
       "    <tr>\n",
       "      <th>4</th>\n",
       "      <td>8.0</td>\n",
       "      <td>2.0</td>\n",
       "      <td>2.0</td>\n",
       "      <td>2.0</td>\n",
       "      <td>4.0</td>\n",
       "      <td>4.0</td>\n",
       "      <td>2.0</td>\n",
       "    </tr>\n",
       "  </tbody>\n",
       "</table>\n",
       "</div>"
      ],
      "text/plain": [
       "   buying  maint  doors  persons  lug_boot  safety  rating\n",
       "0     8.0    2.0    2.0      2.0       2.0     2.0     2.0\n",
       "1     8.0    2.0    2.0      2.0       2.0     4.0     2.0\n",
       "2     8.0    2.0    2.0      2.0       2.0     6.0     2.0\n",
       "3     8.0    2.0    2.0      2.0       4.0     2.0     2.0\n",
       "4     8.0    2.0    2.0      2.0       4.0     4.0     2.0"
      ]
     },
     "execution_count": 14,
     "metadata": {},
     "output_type": "execute_result"
    }
   ],
   "source": [
    "data.head()"
   ]
  },
  {
   "cell_type": "code",
   "execution_count": 15,
   "id": "6d46bb1a",
   "metadata": {},
   "outputs": [],
   "source": [
    "data = data.dropna()"
   ]
  },
  {
   "cell_type": "code",
   "execution_count": 16,
   "id": "0980ee33",
   "metadata": {},
   "outputs": [
    {
     "name": "stdout",
     "output_type": "stream",
     "text": [
      "Matriks hasil konversi:\n",
      "[[8. 2. 2. ... 2. 2. 2.]\n",
      " [8. 2. 2. ... 2. 4. 2.]\n",
      " [8. 2. 2. ... 2. 6. 2.]\n",
      " ...\n",
      " [2. 8. 5. ... 4. 2. 2.]\n",
      " [2. 8. 5. ... 4. 4. 6.]\n",
      " [2. 8. 5. ... 4. 6. 8.]]\n"
     ]
    }
   ],
   "source": [
    "df = pd.DataFrame(data)\n",
    "\n",
    "# ubah dataframe menjadi matriks numpy\n",
    "decision_matrix = df.to_numpy()\n",
    "\n",
    "print(\"Matriks hasil konversi:\")\n",
    "print(decision_matrix)"
   ]
  },
  {
   "cell_type": "markdown",
   "id": "10f36242",
   "metadata": {},
   "source": [
    "### Proses Algoritma TOPSIS"
   ]
  },
  {
   "cell_type": "code",
   "execution_count": 17,
   "id": "0c6a5429",
   "metadata": {},
   "outputs": [
    {
     "name": "stdout",
     "output_type": "stream",
     "text": [
      "Matriks keputusan yang telah dinormalisasi:\n",
      "[[0.04303315 0.01075829 0.01603751 ... 0.0186339  0.01363862 0.01958527]\n",
      " [0.04303315 0.01075829 0.01603751 ... 0.0186339  0.02727724 0.01958527]\n",
      " [0.04303315 0.01075829 0.01603751 ... 0.0186339  0.04091585 0.01958527]\n",
      " ...\n",
      " [0.01075829 0.04303315 0.04009377 ... 0.0372678  0.01363862 0.01958527]\n",
      " [0.01075829 0.04303315 0.04009377 ... 0.0372678  0.02727724 0.0587558 ]\n",
      " [0.01075829 0.04303315 0.04009377 ... 0.0372678  0.04091585 0.07834107]]\n"
     ]
    }
   ],
   "source": [
    "# normalisasi matriks keputusan\n",
    "def normalize_decision_matrix(matrix):\n",
    "    normalized_matrix = np.zeros(matrix.shape)\n",
    "    for j in range(matrix.shape[1]):\n",
    "        col_sum_of_squares = np.sqrt(np.sum(matrix[:, j] ** 2))\n",
    "        normalized_matrix[:, j] = matrix[:, j] / col_sum_of_squares\n",
    "    return normalized_matrix\n",
    "\n",
    "normalized_decision_matrix = normalize_decision_matrix(decision_matrix)\n",
    "print(\"Matriks keputusan yang telah dinormalisasi:\")\n",
    "print(normalized_decision_matrix)"
   ]
  },
  {
   "cell_type": "code",
   "execution_count": 18,
   "id": "eb1105e5",
   "metadata": {},
   "outputs": [],
   "source": [
    "weighted_value = [1, 1, 1, 1, 1, 1, 1]"
   ]
  },
  {
   "cell_type": "code",
   "execution_count": 19,
   "id": "975a55c3",
   "metadata": {},
   "outputs": [],
   "source": [
    "# karena nilai Weight = 1 maka tidak ada perubahan nilai pada matriks\n",
    "weighted_matrix = normalized_decision_matrix * weighted_value"
   ]
  },
  {
   "cell_type": "code",
   "execution_count": 20,
   "id": "7df1a7a4",
   "metadata": {},
   "outputs": [
    {
     "name": "stdout",
     "output_type": "stream",
     "text": [
      "[[0.04303315 0.01075829 0.01603751 ... 0.0186339  0.01363862 0.01958527]\n",
      " [0.04303315 0.01075829 0.01603751 ... 0.0186339  0.02727724 0.01958527]\n",
      " [0.04303315 0.01075829 0.01603751 ... 0.0186339  0.04091585 0.01958527]\n",
      " ...\n",
      " [0.01075829 0.04303315 0.04009377 ... 0.0372678  0.01363862 0.01958527]\n",
      " [0.01075829 0.04303315 0.04009377 ... 0.0372678  0.02727724 0.0587558 ]\n",
      " [0.01075829 0.04303315 0.04009377 ... 0.0372678  0.04091585 0.07834107]]\n"
     ]
    }
   ],
   "source": [
    "print(weighted_matrix)"
   ]
  },
  {
   "cell_type": "code",
   "execution_count": 21,
   "id": "d52e5a0d",
   "metadata": {},
   "outputs": [],
   "source": [
    "# solusi ideal positif dan negatif\n",
    "ideal_positive = np.max(weighted_matrix, axis=0)\n",
    "ideal_negative = np.min(weighted_matrix, axis=0)"
   ]
  },
  {
   "cell_type": "code",
   "execution_count": 22,
   "id": "394b0378",
   "metadata": {},
   "outputs": [
    {
     "data": {
      "text/plain": [
       "array([0.04303315, 0.04303315, 0.04009377, 0.04091585, 0.0372678 ,\n",
       "       0.04091585, 0.07834107])"
      ]
     },
     "execution_count": 22,
     "metadata": {},
     "output_type": "execute_result"
    }
   ],
   "source": [
    "# nilai ideal positif\n",
    "ideal_positive"
   ]
  },
  {
   "cell_type": "code",
   "execution_count": 23,
   "id": "e20328a6",
   "metadata": {},
   "outputs": [
    {
     "data": {
      "text/plain": [
       "array([0.01075829, 0.01075829, 0.01603751, 0.01363862, 0.0186339 ,\n",
       "       0.01363862, 0.01958527])"
      ]
     },
     "execution_count": 23,
     "metadata": {},
     "output_type": "execute_result"
    }
   ],
   "source": [
    "# nilai ideal negatif\n",
    "ideal_negative"
   ]
  },
  {
   "cell_type": "code",
   "execution_count": 24,
   "id": "a7daee18",
   "metadata": {},
   "outputs": [],
   "source": [
    "# jarak relatif\n",
    "positive_distance = np.sum((weighted_matrix - ideal_positive)**2, axis=1)**0.5\n",
    "negative_distance = np.sum((weighted_matrix - ideal_negative)**2, axis=1)**0.5"
   ]
  },
  {
   "cell_type": "code",
   "execution_count": 25,
   "id": "3ad07c16",
   "metadata": {},
   "outputs": [
    {
     "data": {
      "text/plain": [
       "array([0.08311397, 0.07968624, 0.07851041, ..., 0.07237374, 0.04014052,\n",
       "       0.03227486])"
      ]
     },
     "execution_count": 25,
     "metadata": {},
     "output_type": "execute_result"
    }
   ],
   "source": [
    "# jarak ideal positif\n",
    "positive_distance"
   ]
  },
  {
   "cell_type": "code",
   "execution_count": 26,
   "id": "19c7fc28",
   "metadata": {},
   "outputs": [
    {
     "data": {
      "text/plain": [
       "array([0.03227486, 0.03503824, 0.04225771, ..., 0.05207341, 0.06657314,\n",
       "       0.08311397])"
      ]
     },
     "execution_count": 26,
     "metadata": {},
     "output_type": "execute_result"
    }
   ],
   "source": [
    "# jarak ideal negative\n",
    "negative_distance"
   ]
  },
  {
   "cell_type": "code",
   "execution_count": 27,
   "id": "0d49ced6",
   "metadata": {},
   "outputs": [
    {
     "name": "stdout",
     "output_type": "stream",
     "text": [
      "[0.27970525 0.3054121  0.34990784 ... 0.41843796 0.62384835 0.72029475]\n"
     ]
    }
   ],
   "source": [
    "# skor preferensi\n",
    "preference_score = negative_distance / (positive_distance + negative_distance)\n",
    "print(preference_score)"
   ]
  },
  {
   "cell_type": "code",
   "execution_count": 28,
   "id": "000d1dcd",
   "metadata": {},
   "outputs": [
    {
     "data": {
      "text/plain": [
       "array([864, 882, 936, ..., 791, 845, 863], dtype=int64)"
      ]
     },
     "execution_count": 28,
     "metadata": {},
     "output_type": "execute_result"
    }
   ],
   "source": [
    "# peringkat\n",
    "ranking = np.argsort(preference_score)\n",
    "ranking"
   ]
  },
  {
   "cell_type": "markdown",
   "id": "910f1f0a",
   "metadata": {},
   "source": [
    "### Hasil Ranking"
   ]
  },
  {
   "cell_type": "code",
   "execution_count": 29,
   "id": "ba85f207",
   "metadata": {},
   "outputs": [
    {
     "name": "stdout",
     "output_type": "stream",
     "text": [
      "Hasil Ranking:\n",
      "      Index  Ranking\n",
      "0         1      864\n",
      "1         2      882\n",
      "2         3      936\n",
      "3         4      576\n",
      "4         5      865\n",
      "...     ...      ...\n",
      "1147   1148      773\n",
      "1148   1149      857\n",
      "1149   1150      791\n",
      "1150   1151      845\n",
      "1151   1152      863\n",
      "\n",
      "[1152 rows x 2 columns]\n"
     ]
    }
   ],
   "source": [
    "# membuat dataframe baru untuk menampilkan hasil ranking\n",
    "result_df = pd.DataFrame({\n",
    "    'Index': np.arange(1, len(preference_score) + 1),\n",
    "    'Ranking': ranking\n",
    "})\n",
    "\n",
    "print(\"Hasil Ranking:\")\n",
    "print(result_df)"
   ]
  },
  {
   "cell_type": "code",
   "execution_count": 30,
   "id": "7b8d4dc0",
   "metadata": {},
   "outputs": [
    {
     "name": "stdout",
     "output_type": "stream",
     "text": [
      "Hasil Ranking dan Skor Preferensi:\n",
      "      Ranking  Preference Score  Negative Distance  Positive Distance\n",
      "137         1          0.461549           0.054894           0.064041\n",
      "211         2          0.461549           0.054894           0.064041\n",
      "398         3          0.355641           0.039749           0.072017\n",
      "246         4          0.436971           0.053774           0.069287\n",
      "353         5          0.410161           0.048155           0.069251\n",
      "...       ...               ...                ...                ...\n",
      "981      1148          0.280686           0.030103           0.077144\n",
      "1111     1149          0.458813           0.049190           0.058021\n",
      "751      1150          0.450825           0.044234           0.053884\n",
      "1113     1151          0.387381           0.046875           0.074129\n",
      "1141     1152          0.459207           0.048744           0.057404\n",
      "\n",
      "[1152 rows x 4 columns]\n"
     ]
    }
   ],
   "source": [
    "result_df = pd.DataFrame({\n",
    "    'Ranking': ranking + 1,\n",
    "    'Preference Score': preference_score,\n",
    "    'Negative Distance': negative_distance,\n",
    "    'Positive Distance': positive_distance\n",
    "})\n",
    "\n",
    "# urutin dataframe berdasarkan kolom 'Ranking'\n",
    "result_df = result_df.sort_values(by='Ranking')\n",
    "\n",
    "print(\"Hasil Ranking dan Skor Preferensi:\")\n",
    "print(result_df)"
   ]
  },
  {
   "cell_type": "code",
   "execution_count": 31,
   "id": "7c9e030a",
   "metadata": {},
   "outputs": [
    {
     "name": "stderr",
     "output_type": "stream",
     "text": [
      "[NbConvertApp] Converting notebook ./00000056883_NayashaClarisaDwisutrisna_Demo_UAS_IF541.ipynb to html\n",
      "[NbConvertApp] Writing 633080 bytes to 00000056883_NayashaClarisaDwisutrisna_Demo_UAS_IF541.html\n"
     ]
    }
   ],
   "source": [
    "!jupyter nbconvert --to html \"./00000056883_NayashaClarisaDwisutrisna_Demo_UAS_IF541.ipynb\" --output-dir=\"./\""
   ]
  }
 ],
 "metadata": {
  "kernelspec": {
   "display_name": "Python 3 (ipykernel)",
   "language": "python",
   "name": "python3"
  },
  "language_info": {
   "codemirror_mode": {
    "name": "ipython",
    "version": 3
   },
   "file_extension": ".py",
   "mimetype": "text/x-python",
   "name": "python",
   "nbconvert_exporter": "python",
   "pygments_lexer": "ipython3",
   "version": "3.11.5"
  }
 },
 "nbformat": 4,
 "nbformat_minor": 5
}
